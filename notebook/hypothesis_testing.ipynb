{
 "cells": [
  {
   "cell_type": "code",
   "execution_count": 33,
   "metadata": {},
   "outputs": [],
   "source": [
    "import pandas as pd\n",
    "import numpy as np\n",
    "import matplotlib.pyplot as plt # for EDA plots\n",
    "import seaborn as sns # for EDA plots\n",
    "from scipy import stats # for Shapiro-Wilks test, ttest_ind\n",
    "from sklearn.model_selection import train_test_split # for splitting dataframes into train & test samples"
   ]
  },
  {
   "cell_type": "code",
   "execution_count": 28,
   "metadata": {},
   "outputs": [],
   "source": [
    "# Read in the 2 DFs from CSV file\n",
    "df_clean = pd.read_csv('data/df_clean.csv')\n",
    "df_impute = pd.read_csv('data/df_impute.csv')"
   ]
  },
  {
   "cell_type": "markdown",
   "metadata": {},
   "source": [
    "1) Are average X different between Male/Female\n",
    "2) Are average X different between Married vs. Unmarried\n",
    "3) Are average X different between pair-wise combinations of races?\n",
    "4) Are average X different between \"Has metabolic syndrome\" and \"Does not have metabolic syndrome\"?\n",
    "\n",
    "BMI, WaistCirc, Albuminuria, UrAlbCr, UricAcid, BloodGlucose, HDL, Triglycerides."
   ]
  },
  {
   "cell_type": "code",
   "execution_count": 29,
   "metadata": {},
   "outputs": [
    {
     "data": {
      "text/plain": [
       "Index(['Unnamed: 0', 'seqn', 'Age', 'Sex', 'Marital', 'Income', 'Race',\n",
       "       'WaistCirc', 'BMI', 'Albuminuria', 'UrAlbCr', 'UricAcid',\n",
       "       'BloodGlucose', 'HDL', 'Triglycerides', 'MetabolicSyndrome'],\n",
       "      dtype='object')"
      ]
     },
     "execution_count": 29,
     "metadata": {},
     "output_type": "execute_result"
    }
   ],
   "source": [
    "df_impute.columns"
   ]
  },
  {
   "cell_type": "code",
   "execution_count": 30,
   "metadata": {},
   "outputs": [
    {
     "name": "stdout",
     "output_type": "stream",
     "text": [
      "\n",
      "Categories for column: Sex:\n",
      "['Male' 'Female']\n",
      "\n",
      "Categories for column: Race:\n",
      "['White' 'Asian' 'Black' 'MexAmerican' 'Hispanic' 'Other']\n",
      "\n",
      "Categories for column: Marital:\n",
      "['Single' 'Married' 'Widowed' 'Divorced' 'Separated']\n",
      "\n",
      "Categories for column: MetabolicSyndrome:\n",
      "[0 1]\n"
     ]
    }
   ],
   "source": [
    "# What are the unique categorical variables for Sex, Marital, Race, MetabolicSyndrome?\n",
    "print (f\"\\nCategories for column: Sex:\\n{df_impute['Sex'].unique()}\")\n",
    "print (f\"\\nCategories for column: Race:\\n{df_impute['Race'].unique()}\")\n",
    "print (f\"\\nCategories for column: Marital:\\n{df_impute['Marital'].unique()}\")\n",
    "print (f\"\\nCategories for column: MetabolicSyndrome:\\n{df_impute['MetabolicSyndrome'].unique()}\")"
   ]
  },
  {
   "cell_type": "markdown",
   "metadata": {},
   "source": [
    "# Hypothesis Tests for \"Has MetabolicSyndrome\" vs. \"Doesn't Have MetabolicSyndrome\"\n",
    "\n",
    "1. Levene's test for equal variance\n",
    "2. t-test"
   ]
  },
  {
   "cell_type": "code",
   "execution_count": 34,
   "metadata": {},
   "outputs": [
    {
     "name": "stdout",
     "output_type": "stream",
     "text": [
      "Levene test result for WaistCirc: p = 0.17439731450012333, Result: Variances are equal\n",
      "Levene test result for BMI: p = 3.744839622941711e-05, Result: Variances are NOT equal\n",
      "Levene test result for Albuminuria: p = 4.017997154140853e-13, Result: Variances are NOT equal\n",
      "Levene test result for UrAlbCr: p = 0.00011067393676236355, Result: Variances are NOT equal\n",
      "Levene test result for UricAcid: p = 0.0022105965941049094, Result: Variances are NOT equal\n",
      "Levene test result for BloodGlucose: p = 1.668406034475705e-23, Result: Variances are NOT equal\n",
      "Levene test result for HDL: p = 1.2286233173573101e-08, Result: Variances are NOT equal\n",
      "Levene test result for Triglycerides: p = 2.658370873768701e-45, Result: Variances are NOT equal\n"
     ]
    }
   ],
   "source": [
    "# First Use Levene's test to verify equal variance between 2 groups on dimensions:\n",
    "# 'WaistCirc', 'BMI','Albuminuria', 'UrAlbCr', 'UricAcid', 'BloodGlucose', 'HDL', 'Triglycerides'\n",
    "\n",
    "# Define a list with the dimensions we want\n",
    "dimensions = ['WaistCirc', 'BMI', 'Albuminuria', 'UrAlbCr', 'UricAcid', 'BloodGlucose', 'HDL', 'Triglycerides']\n",
    "\n",
    "# Define the masks\n",
    "has_ms_mask = df_impute['MetabolicSyndrome'] == 1\n",
    "no_ms_mask = df_impute['MetabolicSyndrome'] == 0\n",
    "\n",
    "levenes_results = []\n",
    "\n",
    "for dimension in dimensions:\n",
    "    dimension_has_ms = df_impute[has_ms_mask][dimension]\n",
    "    dimension_no_ms  = df_impute[no_ms_mask][dimension]\n",
    "    stat, p = stats.levene(dimension_has_ms, dimension_no_ms)\n",
    "    levenes_results.append(dict({'dimension_name' : dimension, 'stat' : stat, 'p': p}))\n",
    "    print (f\"Levene test result for {dimension}: p = {p}, Result: Variances are {'NOT ' if p < 0.05 else ''}equal\")"
   ]
  },
  {
   "cell_type": "markdown",
   "metadata": {},
   "source": [
    "# Levene's test indicates the following:\n",
    "\n",
    "Variances are equal for the 2 groups (has_ms, no_ms) for these following dimensions, and we can use standard t-test:\n",
    "1. WaistCirc\n",
    "\n",
    "Variances are NOT equal for the 2 groups (has_ms, no_ms) for these following dimensions, and we need to use Welch's t-test (pass 'False' for equal_var in stats.ttest):\n",
    "1. BMI\n",
    "2. Albuminuria\n",
    "3. UrAlbCr\n",
    "4. UricAcid\n",
    "5. BloodGlucose\n",
    "6. HDL\n",
    "7. Triglycerides"
   ]
  },
  {
   "cell_type": "code",
   "execution_count": 38,
   "metadata": {},
   "outputs": [
    {
     "name": "stdout",
     "output_type": "stream",
     "text": [
      "equal variances for dimension WaistCirc\n"
     ]
    }
   ],
   "source": [
    "# Do t-tests for all dimensions!\n",
    "\n",
    "t_results = []\n",
    "\n",
    "for dict_entry in levenes_results:\n",
    "    dimension = dict_entry['dimension_name']\n",
    "    dimension_p = dict_entry['p']\n",
    "    equal_var_param = False # Default (most of our dimensions are not equal variance)\n",
    "    if dimension_p > 0.05:\n",
    "        # Set 'equal_var_param' set to 'True' (meaning, 2 datasets ARE equal variance)\n",
    "        print (f\"equal variances for dimension {dimension}\")\n",
    "        equal_var_param = True\n",
    "\n",
    "    # Run the t-test and store the results\n",
    "    stat, p = stats.ttest_ind(df_impute[has_ms_mask][dimension], df_impute[no_ms_mask][dimension], equal_var=equal_var_param)\n",
    "    t_results.append(dict({'dimension_name' : dimension, 'equal_var_param' : equal_var_param, 'stat' : stat, 'p' : p}))\n"
   ]
  },
  {
   "cell_type": "code",
   "execution_count": 50,
   "metadata": {},
   "outputs": [
    {
     "data": {
      "text/plain": [
       "[{'dimension_name': 'WaistCirc',\n",
       "  'equal_var_param': True,\n",
       "  'stat': 26.165407054357438,\n",
       "  'p': 1.5462850516600822e-131},\n",
       " {'dimension_name': 'BMI',\n",
       "  'equal_var_param': False,\n",
       "  'stat': 20.881735567073623,\n",
       "  'p': 5.7439237164190525e-84},\n",
       " {'dimension_name': 'Albuminuria',\n",
       "  'equal_var_param': False,\n",
       "  'stat': 6.523071363860894,\n",
       "  'p': 1.0323227968063208e-10},\n",
       " {'dimension_name': 'UrAlbCr',\n",
       "  'equal_var_param': False,\n",
       "  'stat': 3.381374389078004,\n",
       "  'p': 0.0007485165882493893},\n",
       " {'dimension_name': 'UricAcid',\n",
       "  'equal_var_param': False,\n",
       "  'stat': 11.853609110639535,\n",
       "  'p': 6.035533456367002e-31},\n",
       " {'dimension_name': 'BloodGlucose',\n",
       "  'equal_var_param': False,\n",
       "  'stat': 15.147307212572214,\n",
       "  'p': 9.117590017521449e-47},\n",
       " {'dimension_name': 'HDL',\n",
       "  'equal_var_param': False,\n",
       "  'stat': -19.91855435350617,\n",
       "  'p': 3.2667959101286097e-80},\n",
       " {'dimension_name': 'Triglycerides',\n",
       "  'equal_var_param': False,\n",
       "  'stat': 18.310620932503344,\n",
       "  'p': 6.414711048677813e-64}]"
      ]
     },
     "execution_count": 50,
     "metadata": {},
     "output_type": "execute_result"
    }
   ],
   "source": [
    "t_results"
   ]
  },
  {
   "cell_type": "code",
   "execution_count": 56,
   "metadata": {},
   "outputs": [
    {
     "name": "stdout",
     "output_type": "stream",
     "text": [
      "t-test results for dimensions grouped by has metabolic syndrome vs. does not have metabolic syndrome:\n",
      "\n",
      "Significantly Different Means:\n",
      "\tWaistCirc, BMI, Albuminuria, UrAlbCr, UricAcid, BloodGlucose, HDL, Triglycerides\n",
      "\n",
      "NOT Significantly Different Means:\n",
      "\t\n"
     ]
    }
   ],
   "source": [
    "# Print out the results\n",
    "\n",
    "print (f\"t-test results for dimensions grouped by has metabolic syndrome vs. does not have metabolic syndrome:\")\n",
    "\n",
    "significantly_different_list = ''\n",
    "not_significantly_different_list = ''\n",
    "\n",
    "for result in t_results:\n",
    "    if result['p'] < 0.05:\n",
    "        significantly_different_list += result['dimension_name'] + ', '\n",
    "    else:\n",
    "        not_significantly_different_list += result['dimension_name'] + ', '\n",
    "\n",
    "# Get rid of last ','\n",
    "significantly_different_list = significantly_different_list[:-2]\n",
    "not_significantly_different_list = not_significantly_different_list[:-1]\n",
    "\n",
    "print (f\"\\nSignificantly Different Means:\\n\\t{significantly_different_list}\")\n",
    "print (f\"\\nNOT Significantly Different Means:\\n\\t{not_significantly_different_list}\")\n"
   ]
  },
  {
   "cell_type": "markdown",
   "metadata": {},
   "source": [
    "# Results for Group Means for \"Has Metabolic Syndrome\" vs. \"Does Not Have Metabolic Syndrome\" Dimensions:\n",
    "\n",
    "For all Dimensions, the means are statistically different for those who \"have metabolic syndrome\" vs. those who \"do not have metabolic syndrome\"\n",
    "    \n",
    "Dimensions are:\n",
    "* WaistCirc\n",
    "* BMI\n",
    "* Albuminuria\n",
    "* UrAlbCr\n",
    "* UricAcid\n",
    "* BloodGlucose\n",
    "* HDL\n",
    "* Triglycerides"
   ]
  },
  {
   "cell_type": "code",
   "execution_count": null,
   "metadata": {},
   "outputs": [],
   "source": []
  },
  {
   "cell_type": "code",
   "execution_count": null,
   "metadata": {},
   "outputs": [],
   "source": []
  },
  {
   "cell_type": "code",
   "execution_count": null,
   "metadata": {},
   "outputs": [],
   "source": []
  },
  {
   "cell_type": "code",
   "execution_count": null,
   "metadata": {},
   "outputs": [],
   "source": []
  },
  {
   "cell_type": "code",
   "execution_count": null,
   "metadata": {},
   "outputs": [],
   "source": []
  },
  {
   "cell_type": "code",
   "execution_count": null,
   "metadata": {},
   "outputs": [],
   "source": []
  }
 ],
 "metadata": {
  "kernelspec": {
   "display_name": "bootcamp_env",
   "language": "python",
   "name": "python3"
  },
  "language_info": {
   "codemirror_mode": {
    "name": "ipython",
    "version": 3
   },
   "file_extension": ".py",
   "mimetype": "text/x-python",
   "name": "python",
   "nbconvert_exporter": "python",
   "pygments_lexer": "ipython3",
   "version": "3.11.5"
  }
 },
 "nbformat": 4,
 "nbformat_minor": 2
}
