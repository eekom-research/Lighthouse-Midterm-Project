{
 "cells": [
  {
   "cell_type": "markdown",
   "id": "11db1084-bf2a-417e-bec9-4d6ba752be8f",
   "metadata": {
    "tags": []
   },
   "source": [
    "# Build logistic classification model for predicting the occurrence of metabolic syndrome"
   ]
  },
  {
   "cell_type": "code",
   "execution_count": 96,
   "id": "45448e2e-de45-46ec-aa26-5125e4532cbf",
   "metadata": {
    "tags": []
   },
   "outputs": [],
   "source": [
    "#import statements\n",
    "import pandas as pd\n",
    "import numpy as np\n",
    "import statsmodels.formula.api as smf\n",
    "import statsmodels.api as sm\n",
    "from scipy.stats import shapiro\n",
    "import matplotlib.pyplot as plt\n",
    "from sklearn.metrics import confusion_matrix\n",
    "from sklearn.metrics import accuracy_score, precision_score, recall_score, f1_score"
   ]
  },
  {
   "cell_type": "markdown",
   "id": "198c92b0-78d2-4dd7-945d-72c7ac90fab9",
   "metadata": {},
   "source": [
    "## Logistic classification model building"
   ]
  },
  {
   "cell_type": "code",
   "execution_count": 97,
   "id": "aa38d940-581c-450d-953a-bcb4860b3be2",
   "metadata": {
    "tags": []
   },
   "outputs": [],
   "source": [
    "# load datasets for model building\n",
    "df_clean_train = pd.read_csv('data/df_clean_train.csv')\n",
    "df_clean_test = pd.read_csv('data/df_clean_test.csv')\n",
    "df_impute_train = pd.read_csv('data/df_impute_train.csv')\n",
    "df_impute_test = pd.read_csv('data/df_impute_test.csv')"
   ]
  },
  {
   "cell_type": "code",
   "execution_count": 98,
   "id": "92142500-36bc-4c5f-b0df-117565e31504",
   "metadata": {
    "tags": []
   },
   "outputs": [],
   "source": [
    "# process loaded dataset\n",
    "desired_columns = df_clean_train.columns[~df_clean_train.columns.isin(['Unnamed: 0','seqn'])]\n",
    "df_clean_train = df_clean_train[desired_columns]\n",
    "df_clean_test = df_clean_test[desired_columns]\n",
    "df_impute_train = df_impute_train[desired_columns]\n",
    "df_impute_test = df_impute_test[desired_columns]"
   ]
  },
  {
   "cell_type": "code",
   "execution_count": 99,
   "id": "15506765-2de4-4113-a821-15ce3382a157",
   "metadata": {
    "tags": []
   },
   "outputs": [],
   "source": [
    "# Extract features\n",
    "features_columns = df_clean_train.columns[~df_clean_train.columns.isin(['MetabolicSyndrome'])]\n",
    "dependent_column = 'MetabolicSyndrome'\n",
    "X_clean_train = df_clean_train[features_columns]\n",
    "X_impute_train = df_impute_train[features_columns]\n",
    "y_clean_train = df_clean_train[dependent_column]\n",
    "y_impute_train = df_impute_train[dependent_column]"
   ]
  },
  {
   "cell_type": "code",
   "execution_count": 100,
   "id": "38571127-634c-48d4-b521-79fe7553a2cf",
   "metadata": {
    "tags": []
   },
   "outputs": [],
   "source": [
    "# Process features\n",
    "X_clean_train_encoded = pd.get_dummies(X_clean_train,drop_first=True)\n",
    "X_impute_train_encoded = pd.get_dummies(X_impute_train,drop_first=True)\n",
    "\n",
    "bool_cols = X_clean_train_encoded.select_dtypes(include=['bool']).columns\n",
    "X_clean_train_encoded[bool_cols] = X_clean_train_encoded[bool_cols].astype(int)\n",
    "\n",
    "bool_cols = X_impute_train_encoded.select_dtypes(include=['bool']).columns\n",
    "X_impute_train_encoded[bool_cols] = X_impute_train_encoded[bool_cols].astype(int)"
   ]
  },
  {
   "cell_type": "code",
   "execution_count": 101,
   "id": "a17807d9-b6bb-4410-8527-5345be503dd0",
   "metadata": {},
   "outputs": [],
   "source": [
    "# view variables"
   ]
  },
  {
   "cell_type": "code",
   "execution_count": 102,
   "id": "3be5cfae-f917-483e-b400-c354992f9678",
   "metadata": {
    "tags": []
   },
   "outputs": [
    {
     "name": "stdout",
     "output_type": "stream",
     "text": [
      "<class 'pandas.core.frame.DataFrame'>\n",
      "RangeIndex: 1607 entries, 0 to 1606\n",
      "Data columns (total 20 columns):\n",
      " #   Column             Non-Null Count  Dtype  \n",
      "---  ------             --------------  -----  \n",
      " 0   Age                1607 non-null   int64  \n",
      " 1   Income             1607 non-null   float64\n",
      " 2   WaistCirc          1607 non-null   float64\n",
      " 3   BMI                1607 non-null   float64\n",
      " 4   Albuminuria        1607 non-null   int64  \n",
      " 5   UrAlbCr            1607 non-null   float64\n",
      " 6   UricAcid           1607 non-null   float64\n",
      " 7   BloodGlucose       1607 non-null   int64  \n",
      " 8   HDL                1607 non-null   int64  \n",
      " 9   Triglycerides      1607 non-null   int64  \n",
      " 10  Sex_Male           1607 non-null   int32  \n",
      " 11  Marital_Married    1607 non-null   int32  \n",
      " 12  Marital_Separated  1607 non-null   int32  \n",
      " 13  Marital_Single     1607 non-null   int32  \n",
      " 14  Marital_Widowed    1607 non-null   int32  \n",
      " 15  Race_Black         1607 non-null   int32  \n",
      " 16  Race_Hispanic      1607 non-null   int32  \n",
      " 17  Race_MexAmerican   1607 non-null   int32  \n",
      " 18  Race_Other         1607 non-null   int32  \n",
      " 19  Race_White         1607 non-null   int32  \n",
      "dtypes: float64(5), int32(10), int64(5)\n",
      "memory usage: 188.4 KB\n"
     ]
    }
   ],
   "source": [
    "X_clean_train_encoded.info()"
   ]
  },
  {
   "cell_type": "code",
   "execution_count": 103,
   "id": "29680e92-e818-4e80-8af9-b1f55637574c",
   "metadata": {
    "tags": []
   },
   "outputs": [
    {
     "name": "stdout",
     "output_type": "stream",
     "text": [
      "<class 'pandas.core.frame.DataFrame'>\n",
      "RangeIndex: 1752 entries, 0 to 1751\n",
      "Data columns (total 20 columns):\n",
      " #   Column             Non-Null Count  Dtype  \n",
      "---  ------             --------------  -----  \n",
      " 0   Age                1752 non-null   int64  \n",
      " 1   Income             1752 non-null   float64\n",
      " 2   WaistCirc          1752 non-null   float64\n",
      " 3   BMI                1752 non-null   float64\n",
      " 4   Albuminuria        1752 non-null   int64  \n",
      " 5   UrAlbCr            1752 non-null   float64\n",
      " 6   UricAcid           1752 non-null   float64\n",
      " 7   BloodGlucose       1752 non-null   int64  \n",
      " 8   HDL                1752 non-null   int64  \n",
      " 9   Triglycerides      1752 non-null   int64  \n",
      " 10  Sex_Male           1752 non-null   int32  \n",
      " 11  Marital_Married    1752 non-null   int32  \n",
      " 12  Marital_Separated  1752 non-null   int32  \n",
      " 13  Marital_Single     1752 non-null   int32  \n",
      " 14  Marital_Widowed    1752 non-null   int32  \n",
      " 15  Race_Black         1752 non-null   int32  \n",
      " 16  Race_Hispanic      1752 non-null   int32  \n",
      " 17  Race_MexAmerican   1752 non-null   int32  \n",
      " 18  Race_Other         1752 non-null   int32  \n",
      " 19  Race_White         1752 non-null   int32  \n",
      "dtypes: float64(5), int32(10), int64(5)\n",
      "memory usage: 205.4 KB\n"
     ]
    }
   ],
   "source": [
    "X_impute_train_encoded.info()"
   ]
  },
  {
   "cell_type": "code",
   "execution_count": 104,
   "id": "a2c12318-43e0-45de-a106-3d376d30f062",
   "metadata": {
    "tags": []
   },
   "outputs": [
    {
     "name": "stdout",
     "output_type": "stream",
     "text": [
      "<class 'pandas.core.series.Series'>\n",
      "RangeIndex: 1607 entries, 0 to 1606\n",
      "Series name: MetabolicSyndrome\n",
      "Non-Null Count  Dtype\n",
      "--------------  -----\n",
      "1607 non-null   int64\n",
      "dtypes: int64(1)\n",
      "memory usage: 12.7 KB\n"
     ]
    }
   ],
   "source": [
    "y_clean_train.info()"
   ]
  },
  {
   "cell_type": "code",
   "execution_count": 105,
   "id": "43d52776-b275-41fc-9344-589e45e25e2c",
   "metadata": {
    "tags": []
   },
   "outputs": [
    {
     "name": "stdout",
     "output_type": "stream",
     "text": [
      "<class 'pandas.core.series.Series'>\n",
      "RangeIndex: 1752 entries, 0 to 1751\n",
      "Series name: MetabolicSyndrome\n",
      "Non-Null Count  Dtype\n",
      "--------------  -----\n",
      "1752 non-null   int64\n",
      "dtypes: int64(1)\n",
      "memory usage: 13.8 KB\n"
     ]
    }
   ],
   "source": [
    "y_impute_train.info()"
   ]
  },
  {
   "cell_type": "code",
   "execution_count": 106,
   "id": "29f7da6b-1168-4055-9273-62c701f6e060",
   "metadata": {
    "tags": []
   },
   "outputs": [
    {
     "name": "stdout",
     "output_type": "stream",
     "text": [
      "Optimization terminated successfully.\n",
      "         Current function value: 0.341391\n",
      "         Iterations 8\n",
      "Optimization terminated successfully.\n",
      "         Current function value: 0.361207\n",
      "         Iterations 7\n"
     ]
    }
   ],
   "source": [
    "# build model\n",
    "model_clean = sm.Logit(y_clean_train,sm.add_constant(X_clean_train_encoded)).fit()\n",
    "model_impute = sm.Logit(y_impute_train,sm.add_constant(X_impute_train_encoded)).fit()"
   ]
  },
  {
   "cell_type": "markdown",
   "id": "094778c1-13da-49ec-b6bd-09ad6cc26410",
   "metadata": {
    "tags": []
   },
   "source": [
    "## Logistic classification model evaluation"
   ]
  },
  {
   "cell_type": "markdown",
   "id": "dbce0ba7-691e-4fa2-81f0-7801567cd61f",
   "metadata": {},
   "source": [
    "### Evaluate model built from clean dataset"
   ]
  },
  {
   "cell_type": "code",
   "execution_count": 107,
   "id": "b4512b4c-0b53-4817-8c2e-9b399707d63b",
   "metadata": {
    "tags": []
   },
   "outputs": [
    {
     "data": {
      "text/html": [
       "<table class=\"simpletable\">\n",
       "<caption>Logit Regression Results</caption>\n",
       "<tr>\n",
       "  <th>Dep. Variable:</th>   <td>MetabolicSyndrome</td> <th>  No. Observations:  </th>   <td>  1607</td>  \n",
       "</tr>\n",
       "<tr>\n",
       "  <th>Model:</th>                 <td>Logit</td>       <th>  Df Residuals:      </th>   <td>  1586</td>  \n",
       "</tr>\n",
       "<tr>\n",
       "  <th>Method:</th>                 <td>MLE</td>        <th>  Df Model:          </th>   <td>    20</td>  \n",
       "</tr>\n",
       "<tr>\n",
       "  <th>Date:</th>            <td>Thu, 02 Nov 2023</td>  <th>  Pseudo R-squ.:     </th>   <td>0.4735</td>  \n",
       "</tr>\n",
       "<tr>\n",
       "  <th>Time:</th>                <td>11:54:00</td>      <th>  Log-Likelihood:    </th>  <td> -548.62</td> \n",
       "</tr>\n",
       "<tr>\n",
       "  <th>converged:</th>             <td>True</td>        <th>  LL-Null:           </th>  <td> -1042.0</td> \n",
       "</tr>\n",
       "<tr>\n",
       "  <th>Covariance Type:</th>     <td>nonrobust</td>     <th>  LLR p-value:       </th> <td>2.546e-196</td>\n",
       "</tr>\n",
       "</table>\n",
       "<table class=\"simpletable\">\n",
       "<tr>\n",
       "          <td></td>             <th>coef</th>     <th>std err</th>      <th>z</th>      <th>P>|z|</th>  <th>[0.025</th>    <th>0.975]</th>  \n",
       "</tr>\n",
       "<tr>\n",
       "  <th>const</th>             <td>  -11.4718</td> <td>    1.006</td> <td>  -11.408</td> <td> 0.000</td> <td>  -13.443</td> <td>   -9.501</td>\n",
       "</tr>\n",
       "<tr>\n",
       "  <th>Age</th>               <td>    0.0405</td> <td>    0.006</td> <td>    6.863</td> <td> 0.000</td> <td>    0.029</td> <td>    0.052</td>\n",
       "</tr>\n",
       "<tr>\n",
       "  <th>Income</th>            <td>-3.395e-05</td> <td> 2.86e-05</td> <td>   -1.189</td> <td> 0.235</td> <td>-8.99e-05</td> <td>  2.2e-05</td>\n",
       "</tr>\n",
       "<tr>\n",
       "  <th>WaistCirc</th>         <td>    0.0560</td> <td>    0.014</td> <td>    4.024</td> <td> 0.000</td> <td>    0.029</td> <td>    0.083</td>\n",
       "</tr>\n",
       "<tr>\n",
       "  <th>BMI</th>               <td>    0.0337</td> <td>    0.032</td> <td>    1.038</td> <td> 0.299</td> <td>   -0.030</td> <td>    0.097</td>\n",
       "</tr>\n",
       "<tr>\n",
       "  <th>Albuminuria</th>       <td>    0.3840</td> <td>    0.228</td> <td>    1.686</td> <td> 0.092</td> <td>   -0.062</td> <td>    0.830</td>\n",
       "</tr>\n",
       "<tr>\n",
       "  <th>UrAlbCr</th>           <td>   -0.0004</td> <td>    0.000</td> <td>   -0.958</td> <td> 0.338</td> <td>   -0.001</td> <td>    0.000</td>\n",
       "</tr>\n",
       "<tr>\n",
       "  <th>UricAcid</th>          <td>    0.1527</td> <td>    0.064</td> <td>    2.368</td> <td> 0.018</td> <td>    0.026</td> <td>    0.279</td>\n",
       "</tr>\n",
       "<tr>\n",
       "  <th>BloodGlucose</th>      <td>    0.0225</td> <td>    0.003</td> <td>    6.720</td> <td> 0.000</td> <td>    0.016</td> <td>    0.029</td>\n",
       "</tr>\n",
       "<tr>\n",
       "  <th>HDL</th>               <td>   -0.0512</td> <td>    0.008</td> <td>   -6.691</td> <td> 0.000</td> <td>   -0.066</td> <td>   -0.036</td>\n",
       "</tr>\n",
       "<tr>\n",
       "  <th>Triglycerides</th>     <td>    0.0160</td> <td>    0.001</td> <td>   10.796</td> <td> 0.000</td> <td>    0.013</td> <td>    0.019</td>\n",
       "</tr>\n",
       "<tr>\n",
       "  <th>Sex_Male</th>          <td>   -1.0689</td> <td>    0.204</td> <td>   -5.228</td> <td> 0.000</td> <td>   -1.470</td> <td>   -0.668</td>\n",
       "</tr>\n",
       "<tr>\n",
       "  <th>Marital_Married</th>   <td>    0.2530</td> <td>    0.248</td> <td>    1.020</td> <td> 0.308</td> <td>   -0.233</td> <td>    0.739</td>\n",
       "</tr>\n",
       "<tr>\n",
       "  <th>Marital_Separated</th> <td>    0.7502</td> <td>    0.410</td> <td>    1.829</td> <td> 0.067</td> <td>   -0.054</td> <td>    1.554</td>\n",
       "</tr>\n",
       "<tr>\n",
       "  <th>Marital_Single</th>    <td>    0.1727</td> <td>    0.298</td> <td>    0.580</td> <td> 0.562</td> <td>   -0.411</td> <td>    0.756</td>\n",
       "</tr>\n",
       "<tr>\n",
       "  <th>Marital_Widowed</th>   <td>   -0.5973</td> <td>    0.356</td> <td>   -1.676</td> <td> 0.094</td> <td>   -1.296</td> <td>    0.101</td>\n",
       "</tr>\n",
       "<tr>\n",
       "  <th>Race_Black</th>        <td>   -0.1166</td> <td>    0.290</td> <td>   -0.402</td> <td> 0.687</td> <td>   -0.685</td> <td>    0.451</td>\n",
       "</tr>\n",
       "<tr>\n",
       "  <th>Race_Hispanic</th>     <td>    0.1243</td> <td>    0.316</td> <td>    0.393</td> <td> 0.694</td> <td>   -0.495</td> <td>    0.743</td>\n",
       "</tr>\n",
       "<tr>\n",
       "  <th>Race_MexAmerican</th>  <td>    0.0744</td> <td>    0.336</td> <td>    0.222</td> <td> 0.825</td> <td>   -0.584</td> <td>    0.733</td>\n",
       "</tr>\n",
       "<tr>\n",
       "  <th>Race_Other</th>        <td>    0.1519</td> <td>    0.589</td> <td>    0.258</td> <td> 0.796</td> <td>   -1.002</td> <td>    1.306</td>\n",
       "</tr>\n",
       "<tr>\n",
       "  <th>Race_White</th>        <td>   -0.2099</td> <td>    0.258</td> <td>   -0.815</td> <td> 0.415</td> <td>   -0.715</td> <td>    0.295</td>\n",
       "</tr>\n",
       "</table>"
      ],
      "text/latex": [
       "\\begin{center}\n",
       "\\begin{tabular}{lclc}\n",
       "\\toprule\n",
       "\\textbf{Dep. Variable:}     & MetabolicSyndrome & \\textbf{  No. Observations:  } &     1607    \\\\\n",
       "\\textbf{Model:}             &       Logit       & \\textbf{  Df Residuals:      } &     1586    \\\\\n",
       "\\textbf{Method:}            &        MLE        & \\textbf{  Df Model:          } &       20    \\\\\n",
       "\\textbf{Date:}              &  Thu, 02 Nov 2023 & \\textbf{  Pseudo R-squ.:     } &   0.4735    \\\\\n",
       "\\textbf{Time:}              &      11:54:00     & \\textbf{  Log-Likelihood:    } &   -548.62   \\\\\n",
       "\\textbf{converged:}         &        True       & \\textbf{  LL-Null:           } &   -1042.0   \\\\\n",
       "\\textbf{Covariance Type:}   &     nonrobust     & \\textbf{  LLR p-value:       } & 2.546e-196  \\\\\n",
       "\\bottomrule\n",
       "\\end{tabular}\n",
       "\\begin{tabular}{lcccccc}\n",
       "                            & \\textbf{coef} & \\textbf{std err} & \\textbf{z} & \\textbf{P$> |$z$|$} & \\textbf{[0.025} & \\textbf{0.975]}  \\\\\n",
       "\\midrule\n",
       "\\textbf{const}              &     -11.4718  &        1.006     &   -11.408  &         0.000        &      -13.443    &       -9.501     \\\\\n",
       "\\textbf{Age}                &       0.0405  &        0.006     &     6.863  &         0.000        &        0.029    &        0.052     \\\\\n",
       "\\textbf{Income}             &   -3.395e-05  &     2.86e-05     &    -1.189  &         0.235        &    -8.99e-05    &      2.2e-05     \\\\\n",
       "\\textbf{WaistCirc}          &       0.0560  &        0.014     &     4.024  &         0.000        &        0.029    &        0.083     \\\\\n",
       "\\textbf{BMI}                &       0.0337  &        0.032     &     1.038  &         0.299        &       -0.030    &        0.097     \\\\\n",
       "\\textbf{Albuminuria}        &       0.3840  &        0.228     &     1.686  &         0.092        &       -0.062    &        0.830     \\\\\n",
       "\\textbf{UrAlbCr}            &      -0.0004  &        0.000     &    -0.958  &         0.338        &       -0.001    &        0.000     \\\\\n",
       "\\textbf{UricAcid}           &       0.1527  &        0.064     &     2.368  &         0.018        &        0.026    &        0.279     \\\\\n",
       "\\textbf{BloodGlucose}       &       0.0225  &        0.003     &     6.720  &         0.000        &        0.016    &        0.029     \\\\\n",
       "\\textbf{HDL}                &      -0.0512  &        0.008     &    -6.691  &         0.000        &       -0.066    &       -0.036     \\\\\n",
       "\\textbf{Triglycerides}      &       0.0160  &        0.001     &    10.796  &         0.000        &        0.013    &        0.019     \\\\\n",
       "\\textbf{Sex\\_Male}          &      -1.0689  &        0.204     &    -5.228  &         0.000        &       -1.470    &       -0.668     \\\\\n",
       "\\textbf{Marital\\_Married}   &       0.2530  &        0.248     &     1.020  &         0.308        &       -0.233    &        0.739     \\\\\n",
       "\\textbf{Marital\\_Separated} &       0.7502  &        0.410     &     1.829  &         0.067        &       -0.054    &        1.554     \\\\\n",
       "\\textbf{Marital\\_Single}    &       0.1727  &        0.298     &     0.580  &         0.562        &       -0.411    &        0.756     \\\\\n",
       "\\textbf{Marital\\_Widowed}   &      -0.5973  &        0.356     &    -1.676  &         0.094        &       -1.296    &        0.101     \\\\\n",
       "\\textbf{Race\\_Black}        &      -0.1166  &        0.290     &    -0.402  &         0.687        &       -0.685    &        0.451     \\\\\n",
       "\\textbf{Race\\_Hispanic}     &       0.1243  &        0.316     &     0.393  &         0.694        &       -0.495    &        0.743     \\\\\n",
       "\\textbf{Race\\_MexAmerican}  &       0.0744  &        0.336     &     0.222  &         0.825        &       -0.584    &        0.733     \\\\\n",
       "\\textbf{Race\\_Other}        &       0.1519  &        0.589     &     0.258  &         0.796        &       -1.002    &        1.306     \\\\\n",
       "\\textbf{Race\\_White}        &      -0.2099  &        0.258     &    -0.815  &         0.415        &       -0.715    &        0.295     \\\\\n",
       "\\bottomrule\n",
       "\\end{tabular}\n",
       "%\\caption{Logit Regression Results}\n",
       "\\end{center}"
      ],
      "text/plain": [
       "<class 'statsmodels.iolib.summary.Summary'>\n",
       "\"\"\"\n",
       "                           Logit Regression Results                           \n",
       "==============================================================================\n",
       "Dep. Variable:      MetabolicSyndrome   No. Observations:                 1607\n",
       "Model:                          Logit   Df Residuals:                     1586\n",
       "Method:                           MLE   Df Model:                           20\n",
       "Date:                Thu, 02 Nov 2023   Pseudo R-squ.:                  0.4735\n",
       "Time:                        11:54:00   Log-Likelihood:                -548.62\n",
       "converged:                       True   LL-Null:                       -1042.0\n",
       "Covariance Type:            nonrobust   LLR p-value:                2.546e-196\n",
       "=====================================================================================\n",
       "                        coef    std err          z      P>|z|      [0.025      0.975]\n",
       "-------------------------------------------------------------------------------------\n",
       "const               -11.4718      1.006    -11.408      0.000     -13.443      -9.501\n",
       "Age                   0.0405      0.006      6.863      0.000       0.029       0.052\n",
       "Income            -3.395e-05   2.86e-05     -1.189      0.235   -8.99e-05     2.2e-05\n",
       "WaistCirc             0.0560      0.014      4.024      0.000       0.029       0.083\n",
       "BMI                   0.0337      0.032      1.038      0.299      -0.030       0.097\n",
       "Albuminuria           0.3840      0.228      1.686      0.092      -0.062       0.830\n",
       "UrAlbCr              -0.0004      0.000     -0.958      0.338      -0.001       0.000\n",
       "UricAcid              0.1527      0.064      2.368      0.018       0.026       0.279\n",
       "BloodGlucose          0.0225      0.003      6.720      0.000       0.016       0.029\n",
       "HDL                  -0.0512      0.008     -6.691      0.000      -0.066      -0.036\n",
       "Triglycerides         0.0160      0.001     10.796      0.000       0.013       0.019\n",
       "Sex_Male             -1.0689      0.204     -5.228      0.000      -1.470      -0.668\n",
       "Marital_Married       0.2530      0.248      1.020      0.308      -0.233       0.739\n",
       "Marital_Separated     0.7502      0.410      1.829      0.067      -0.054       1.554\n",
       "Marital_Single        0.1727      0.298      0.580      0.562      -0.411       0.756\n",
       "Marital_Widowed      -0.5973      0.356     -1.676      0.094      -1.296       0.101\n",
       "Race_Black           -0.1166      0.290     -0.402      0.687      -0.685       0.451\n",
       "Race_Hispanic         0.1243      0.316      0.393      0.694      -0.495       0.743\n",
       "Race_MexAmerican      0.0744      0.336      0.222      0.825      -0.584       0.733\n",
       "Race_Other            0.1519      0.589      0.258      0.796      -1.002       1.306\n",
       "Race_White           -0.2099      0.258     -0.815      0.415      -0.715       0.295\n",
       "=====================================================================================\n",
       "\"\"\""
      ]
     },
     "execution_count": 107,
     "metadata": {},
     "output_type": "execute_result"
    }
   ],
   "source": [
    "# model built from clean dataset\n",
    "model_clean.summary()"
   ]
  },
  {
   "cell_type": "markdown",
   "id": "56ebdf78-0792-4128-9c48-12efa6142f5c",
   "metadata": {},
   "source": [
    "Prediction with trained dataset"
   ]
  },
  {
   "cell_type": "code",
   "execution_count": 108,
   "id": "ff2b1ba1-252d-4697-904c-8af44fdecd2e",
   "metadata": {
    "tags": []
   },
   "outputs": [
    {
     "data": {
      "text/html": [
       "<div>\n",
       "<style scoped>\n",
       "    .dataframe tbody tr th:only-of-type {\n",
       "        vertical-align: middle;\n",
       "    }\n",
       "\n",
       "    .dataframe tbody tr th {\n",
       "        vertical-align: top;\n",
       "    }\n",
       "\n",
       "    .dataframe thead th {\n",
       "        text-align: right;\n",
       "    }\n",
       "</style>\n",
       "<table border=\"1\" class=\"dataframe\">\n",
       "  <thead>\n",
       "    <tr style=\"text-align: right;\">\n",
       "      <th></th>\n",
       "      <th>Predicted Negative</th>\n",
       "      <th>Predicted Positive</th>\n",
       "    </tr>\n",
       "  </thead>\n",
       "  <tbody>\n",
       "    <tr>\n",
       "      <th>Actual Negative</th>\n",
       "      <td>946.0</td>\n",
       "      <td>96.0</td>\n",
       "    </tr>\n",
       "    <tr>\n",
       "      <th>Actual Positive</th>\n",
       "      <td>146.0</td>\n",
       "      <td>419.0</td>\n",
       "    </tr>\n",
       "  </tbody>\n",
       "</table>\n",
       "</div>"
      ],
      "text/plain": [
       "                 Predicted Negative  Predicted Positive\n",
       "Actual Negative               946.0                96.0\n",
       "Actual Positive               146.0               419.0"
      ]
     },
     "execution_count": 108,
     "metadata": {},
     "output_type": "execute_result"
    }
   ],
   "source": [
    "conf_matrix = model_clean.pred_table()\n",
    "df_cm = pd.DataFrame(conf_matrix, index=['Actual Negative', 'Actual Positive'], \n",
    "                     columns=['Predicted Negative', 'Predicted Positive'])\n",
    "df_cm"
   ]
  },
  {
   "cell_type": "markdown",
   "id": "4adb6d7a-003b-486d-86f8-88c53e13ef85",
   "metadata": {},
   "source": [
    "Prediction with test dataset"
   ]
  },
  {
   "cell_type": "code",
   "execution_count": 109,
   "id": "5e918003-2196-4f9e-b63e-975ab10e56e3",
   "metadata": {
    "tags": []
   },
   "outputs": [],
   "source": [
    "# process test dataset\n",
    "X_clean_test = df_clean_test[features_columns]\n",
    "X_impute_test = df_impute_test[features_columns]\n",
    "y_clean_test = df_clean_test[dependent_column]\n",
    "y_impute_test = df_impute_test[dependent_column]\n",
    "\n",
    "X_clean_test_encoded = pd.get_dummies(X_clean_test,drop_first=True)\n",
    "X_impute_test_encoded = pd.get_dummies(X_impute_test,drop_first=True)\n",
    "\n",
    "bool_cols = X_clean_test_encoded.select_dtypes(include=['bool']).columns\n",
    "X_clean_test_encoded[bool_cols] = X_clean_test_encoded[bool_cols].astype(int)\n",
    "\n",
    "bool_cols = X_impute_test_encoded.select_dtypes(include=['bool']).columns\n",
    "X_impute_test_encoded[bool_cols] = X_impute_test_encoded[bool_cols].astype(int)"
   ]
  },
  {
   "cell_type": "code",
   "execution_count": 110,
   "id": "3093c8e2-c608-41cb-8377-0ab8717adb0c",
   "metadata": {
    "tags": []
   },
   "outputs": [
    {
     "name": "stdout",
     "output_type": "stream",
     "text": [
      "<class 'pandas.core.frame.DataFrame'>\n",
      "RangeIndex: 402 entries, 0 to 401\n",
      "Data columns (total 20 columns):\n",
      " #   Column             Non-Null Count  Dtype  \n",
      "---  ------             --------------  -----  \n",
      " 0   Age                402 non-null    int64  \n",
      " 1   Income             402 non-null    float64\n",
      " 2   WaistCirc          402 non-null    float64\n",
      " 3   BMI                402 non-null    float64\n",
      " 4   Albuminuria        402 non-null    int64  \n",
      " 5   UrAlbCr            402 non-null    float64\n",
      " 6   UricAcid           402 non-null    float64\n",
      " 7   BloodGlucose       402 non-null    int64  \n",
      " 8   HDL                402 non-null    int64  \n",
      " 9   Triglycerides      402 non-null    int64  \n",
      " 10  Sex_Male           402 non-null    int32  \n",
      " 11  Marital_Married    402 non-null    int32  \n",
      " 12  Marital_Separated  402 non-null    int32  \n",
      " 13  Marital_Single     402 non-null    int32  \n",
      " 14  Marital_Widowed    402 non-null    int32  \n",
      " 15  Race_Black         402 non-null    int32  \n",
      " 16  Race_Hispanic      402 non-null    int32  \n",
      " 17  Race_MexAmerican   402 non-null    int32  \n",
      " 18  Race_Other         402 non-null    int32  \n",
      " 19  Race_White         402 non-null    int32  \n",
      "dtypes: float64(5), int32(10), int64(5)\n",
      "memory usage: 47.2 KB\n"
     ]
    }
   ],
   "source": [
    "X_clean_test_encoded.info()"
   ]
  },
  {
   "cell_type": "code",
   "execution_count": 111,
   "id": "b5468955-ff8e-46a1-85e6-6018b0016e4b",
   "metadata": {
    "tags": []
   },
   "outputs": [
    {
     "name": "stdout",
     "output_type": "stream",
     "text": [
      "<class 'pandas.core.frame.DataFrame'>\n",
      "RangeIndex: 1607 entries, 0 to 1606\n",
      "Data columns (total 20 columns):\n",
      " #   Column             Non-Null Count  Dtype  \n",
      "---  ------             --------------  -----  \n",
      " 0   Age                1607 non-null   int64  \n",
      " 1   Income             1607 non-null   float64\n",
      " 2   WaistCirc          1607 non-null   float64\n",
      " 3   BMI                1607 non-null   float64\n",
      " 4   Albuminuria        1607 non-null   int64  \n",
      " 5   UrAlbCr            1607 non-null   float64\n",
      " 6   UricAcid           1607 non-null   float64\n",
      " 7   BloodGlucose       1607 non-null   int64  \n",
      " 8   HDL                1607 non-null   int64  \n",
      " 9   Triglycerides      1607 non-null   int64  \n",
      " 10  Sex_Male           1607 non-null   int32  \n",
      " 11  Marital_Married    1607 non-null   int32  \n",
      " 12  Marital_Separated  1607 non-null   int32  \n",
      " 13  Marital_Single     1607 non-null   int32  \n",
      " 14  Marital_Widowed    1607 non-null   int32  \n",
      " 15  Race_Black         1607 non-null   int32  \n",
      " 16  Race_Hispanic      1607 non-null   int32  \n",
      " 17  Race_MexAmerican   1607 non-null   int32  \n",
      " 18  Race_Other         1607 non-null   int32  \n",
      " 19  Race_White         1607 non-null   int32  \n",
      "dtypes: float64(5), int32(10), int64(5)\n",
      "memory usage: 188.4 KB\n"
     ]
    }
   ],
   "source": [
    "X_clean_train_encoded.info()"
   ]
  },
  {
   "cell_type": "code",
   "execution_count": 112,
   "id": "0184a2eb-72fe-4ebf-ba11-561de0840ede",
   "metadata": {
    "tags": []
   },
   "outputs": [],
   "source": [
    "# get predictions for non-training data\n",
    "y_pred = model_clean.predict(sm.add_constant(X_clean_test_encoded))\n",
    "y_pred_class = (y_pred > 0.5).astype(int)"
   ]
  },
  {
   "cell_type": "code",
   "execution_count": 113,
   "id": "e0ee054d-dbfa-48fa-9543-2fe3c350fc39",
   "metadata": {
    "tags": []
   },
   "outputs": [
    {
     "data": {
      "text/html": [
       "<div>\n",
       "<style scoped>\n",
       "    .dataframe tbody tr th:only-of-type {\n",
       "        vertical-align: middle;\n",
       "    }\n",
       "\n",
       "    .dataframe tbody tr th {\n",
       "        vertical-align: top;\n",
       "    }\n",
       "\n",
       "    .dataframe thead th {\n",
       "        text-align: right;\n",
       "    }\n",
       "</style>\n",
       "<table border=\"1\" class=\"dataframe\">\n",
       "  <thead>\n",
       "    <tr style=\"text-align: right;\">\n",
       "      <th></th>\n",
       "      <th>Predicted Negative</th>\n",
       "      <th>Predicted Positive</th>\n",
       "    </tr>\n",
       "  </thead>\n",
       "  <tbody>\n",
       "    <tr>\n",
       "      <th>Actual Negative</th>\n",
       "      <td>218</td>\n",
       "      <td>37</td>\n",
       "    </tr>\n",
       "    <tr>\n",
       "      <th>Actual Positive</th>\n",
       "      <td>39</td>\n",
       "      <td>108</td>\n",
       "    </tr>\n",
       "  </tbody>\n",
       "</table>\n",
       "</div>"
      ],
      "text/plain": [
       "                 Predicted Negative  Predicted Positive\n",
       "Actual Negative                 218                  37\n",
       "Actual Positive                  39                 108"
      ]
     },
     "execution_count": 113,
     "metadata": {},
     "output_type": "execute_result"
    }
   ],
   "source": [
    "# generate confusion matrix \n",
    "conf_matrix = confusion_matrix(y_clean_test, y_pred_class)\n",
    "df_cm = pd.DataFrame(conf_matrix, index=['Actual Negative', 'Actual Positive'], \n",
    "                     columns=['Predicted Negative', 'Predicted Positive'])\n",
    "df_cm"
   ]
  },
  {
   "cell_type": "markdown",
   "id": "a040efdb-3606-4922-94be-29f58338a106",
   "metadata": {
    "tags": []
   },
   "source": [
    "### Evaluate model built from imputed dataset"
   ]
  },
  {
   "cell_type": "code",
   "execution_count": 114,
   "id": "85f8bb07-7c22-4086-94fc-fc7d92f3fe31",
   "metadata": {
    "tags": []
   },
   "outputs": [],
   "source": [
    "# evaluate performance of a given model\n",
    "def model_perf_evaluation(model,X_test,y_test):\n",
    "    # generate confusion matrix for training dataset\n",
    "    cm = model.pred_table()\n",
    "    \n",
    "    # Extract values from the confusion matrix\n",
    "    true_negative, false_positive, false_negative, true_positive = cm.flatten()\n",
    "    accuracy_train = (true_positive + true_negative) / np.sum(cm)\n",
    "    precision_train = true_positive / (true_positive + false_positive)\n",
    "    \n",
    "    X_test_encoded = pd.get_dummies(X_test,drop_first=True)\n",
    "    bool_cols = X_test_encoded.select_dtypes(include=['bool']).columns\n",
    "    X_test_encoded[bool_cols] = X_test_encoded[bool_cols].astype(int)\n",
    "    # get predictions for non-training data\n",
    "    y_pred = model.predict(sm.add_constant(X_test_encoded))\n",
    "    y_pred_class = (y_pred > 0.5).astype(int)\n",
    "    \n",
    "    # generate confusion matrix for test dataset\n",
    "    conf_matrix = confusion_matrix(y_test, y_pred_class)\n",
    "    \n",
    "    \n",
    "    # the proportion of total cases correctly classified\n",
    "    accuracy_test = accuracy_score(y_test, y_pred_class)\n",
    "    # the proportion of positive identifications that were actually correct\n",
    "    precision_test = precision_score(y_test, y_pred_class)\n",
    "    \n",
    "    data = {'pseudo_r_squared' : model.prsquared,\n",
    "            'predicted_neg_train' : f'{cm[0,0]}/{cm[0,0]+cm[0,1]}',\n",
    "            'predicted_pos_train' : f'{cm[1,1]}/{cm[1,1]+cm[1,0]}',\n",
    "            'accuracy_train' : accuracy_train,\n",
    "            'precisioin_train': precision_train,\n",
    "            'predicted_neg_test' : f'{conf_matrix[0,0]}/{conf_matrix[0,0]+conf_matrix[0,1]}',\n",
    "            'predicted_pos_test' : f'{conf_matrix[1,1]}/{conf_matrix[1,1]+conf_matrix[1,0]}',\n",
    "            'accuracy_test' : accuracy_test,\n",
    "            'precision_test':precision_test,\n",
    "           }\n",
    "    print(pd.Series(data))"
   ]
  },
  {
   "cell_type": "code",
   "execution_count": 115,
   "id": "58471241-ac96-4967-a70c-bb7692883d7d",
   "metadata": {
    "tags": []
   },
   "outputs": [
    {
     "name": "stdout",
     "output_type": "stream",
     "text": [
      "pseudo_r_squared            0.439555\n",
      "predicted_neg_train    1044.0/1147.0\n",
      "predicted_pos_train      429.0/605.0\n",
      "accuracy_train              0.840753\n",
      "precisioin_train            0.806391\n",
      "predicted_neg_test           249/284\n",
      "predicted_pos_test           115/155\n",
      "accuracy_test               0.829157\n",
      "precision_test              0.766667\n",
      "dtype: object\n"
     ]
    }
   ],
   "source": [
    "model_perf_evaluation(model_impute, X_impute_test,y_impute_test)"
   ]
  },
  {
   "cell_type": "code",
   "execution_count": 116,
   "id": "59ec1265-fad6-46a3-a82a-b60711900545",
   "metadata": {
    "tags": []
   },
   "outputs": [
    {
     "name": "stdout",
     "output_type": "stream",
     "text": [
      "pseudo_r_squared           0.473506\n",
      "predicted_neg_train    946.0/1042.0\n",
      "predicted_pos_train     419.0/565.0\n",
      "accuracy_train             0.849409\n",
      "precisioin_train           0.813592\n",
      "predicted_neg_test          218/255\n",
      "predicted_pos_test          108/147\n",
      "accuracy_test              0.810945\n",
      "precision_test             0.744828\n",
      "dtype: object\n"
     ]
    }
   ],
   "source": [
    "# for comparisons, formatted performance output from model built from clean dataset\n",
    "model_perf_evaluation(model_clean,X_clean_test,y_clean_test)"
   ]
  },
  {
   "cell_type": "code",
   "execution_count": null,
   "id": "03f7a4db-c877-4b42-91f8-e8b2491674ea",
   "metadata": {},
   "outputs": [],
   "source": []
  },
  {
   "cell_type": "markdown",
   "id": "dbf13782-b400-4a91-9fa7-f67023a6c757",
   "metadata": {},
   "source": [
    "* Both models perform relatively well for both training and test dataset. \n",
    "* The model built from imputed data seem to perform better for non-training dataset. This is most likely due to the fact it was trained with a larger dataset"
   ]
  },
  {
   "cell_type": "markdown",
   "id": "80518143-36cd-4a74-9c87-b9756a687f74",
   "metadata": {},
   "source": [
    "## Can we improve model performance even further?"
   ]
  },
  {
   "cell_type": "markdown",
   "id": "e05e89f1-9a93-463d-accb-9a8332244811",
   "metadata": {},
   "source": [
    "* By reducing features to only those with statistically significant coefficients\n",
    "* By normalzing numeric columns\n",
    "\n",
    "[* By optionally removing outliers]"
   ]
  },
  {
   "cell_type": "code",
   "execution_count": null,
   "id": "15aa6130-abe4-4894-9ba1-f20d03e9b753",
   "metadata": {},
   "outputs": [],
   "source": []
  },
  {
   "cell_type": "code",
   "execution_count": 117,
   "id": "198c30ef-3d13-48df-9c3f-3d8fa4aa947c",
   "metadata": {
    "tags": []
   },
   "outputs": [],
   "source": [
    "# Normalize training numerical values\n",
    "numeric_cols=df_impute_train.select_dtypes(include=['number']).columns\n",
    "df_impute_train[numeric_cols] = (df_impute_train[numeric_cols] - df_impute_train[numeric_cols].min()) / (df_impute_train[numeric_cols].max() - df_impute_train[numeric_cols].min())"
   ]
  },
  {
   "cell_type": "code",
   "execution_count": 118,
   "id": "e81acca3-6c21-4767-9f2a-2c447b8b2025",
   "metadata": {
    "tags": []
   },
   "outputs": [],
   "source": [
    "# Normalize test numerical values\n",
    "numeric_cols=df_impute_test.select_dtypes(include=['number']).columns\n",
    "df_impute_test[numeric_cols] = (df_impute_test[numeric_cols] - df_impute_test[numeric_cols].min()) / (df_impute_test[numeric_cols].max() - df_impute_test[numeric_cols].min())\n"
   ]
  },
  {
   "cell_type": "code",
   "execution_count": 119,
   "id": "d2949dfb-81f0-42c9-97f7-48c80af70c5d",
   "metadata": {
    "tags": []
   },
   "outputs": [],
   "source": [
    "# Extract features\n",
    "features_columns = ['Age','WaistCirc','UricAcid','BloodGlucose','HDL','Triglycerides','Sex']\n",
    "#features_columns = df_clean_train.columns[~df_clean_train.columns.isin(['MetabolicSyndrome'])]\n",
    "dependent_column = 'MetabolicSyndrome'\n",
    "X_impute_train = df_impute_train[features_columns]\n",
    "y_impute_train = df_impute_train[dependent_column]\n",
    "X_impute_test = df_impute_test[features_columns]\n",
    "y_impute_test = df_impute_test[dependent_column]"
   ]
  },
  {
   "cell_type": "code",
   "execution_count": 120,
   "id": "de4e05ea-eeb3-4d97-b5c8-aa6469b06ead",
   "metadata": {
    "tags": []
   },
   "outputs": [
    {
     "name": "stdout",
     "output_type": "stream",
     "text": [
      "<class 'pandas.core.frame.DataFrame'>\n",
      "RangeIndex: 1752 entries, 0 to 1751\n",
      "Data columns (total 20 columns):\n",
      " #   Column             Non-Null Count  Dtype  \n",
      "---  ------             --------------  -----  \n",
      " 0   Age                1752 non-null   int64  \n",
      " 1   Income             1752 non-null   float64\n",
      " 2   WaistCirc          1752 non-null   float64\n",
      " 3   BMI                1752 non-null   float64\n",
      " 4   Albuminuria        1752 non-null   int64  \n",
      " 5   UrAlbCr            1752 non-null   float64\n",
      " 6   UricAcid           1752 non-null   float64\n",
      " 7   BloodGlucose       1752 non-null   int64  \n",
      " 8   HDL                1752 non-null   int64  \n",
      " 9   Triglycerides      1752 non-null   int64  \n",
      " 10  Sex_Male           1752 non-null   int32  \n",
      " 11  Marital_Married    1752 non-null   int32  \n",
      " 12  Marital_Separated  1752 non-null   int32  \n",
      " 13  Marital_Single     1752 non-null   int32  \n",
      " 14  Marital_Widowed    1752 non-null   int32  \n",
      " 15  Race_Black         1752 non-null   int32  \n",
      " 16  Race_Hispanic      1752 non-null   int32  \n",
      " 17  Race_MexAmerican   1752 non-null   int32  \n",
      " 18  Race_Other         1752 non-null   int32  \n",
      " 19  Race_White         1752 non-null   int32  \n",
      "dtypes: float64(5), int32(10), int64(5)\n",
      "memory usage: 205.4 KB\n"
     ]
    }
   ],
   "source": [
    "X_impute_train_encoded.info()"
   ]
  },
  {
   "cell_type": "code",
   "execution_count": 121,
   "id": "61a95cf8-9d8f-48d5-b0e5-3dba0a9bbcb9",
   "metadata": {
    "tags": []
   },
   "outputs": [],
   "source": [
    "# Process features\n",
    "X_impute_train_encoded = pd.get_dummies(X_impute_train,drop_first=True)\n",
    "bool_cols = X_impute_train_encoded.select_dtypes(include=['bool']).columns\n",
    "X_impute_train_encoded[bool_cols] = X_impute_train_encoded[bool_cols].astype(int)"
   ]
  },
  {
   "cell_type": "code",
   "execution_count": 122,
   "id": "3fd5c0ec-bbb6-4667-8c09-c1573b04de98",
   "metadata": {
    "tags": []
   },
   "outputs": [
    {
     "name": "stdout",
     "output_type": "stream",
     "text": [
      "Optimization terminated successfully.\n",
      "         Current function value: 0.364796\n",
      "         Iterations 7\n"
     ]
    }
   ],
   "source": [
    "# build model\n",
    "model_impute = sm.Logit(y_impute_train,sm.add_constant(X_impute_train_encoded)).fit()"
   ]
  },
  {
   "cell_type": "code",
   "execution_count": 124,
   "id": "2d1f3bc0-1640-4dfc-bd36-e22695f70b52",
   "metadata": {
    "tags": []
   },
   "outputs": [
    {
     "data": {
      "text/html": [
       "<table class=\"simpletable\">\n",
       "<caption>Logit Regression Results</caption>\n",
       "<tr>\n",
       "  <th>Dep. Variable:</th>   <td>MetabolicSyndrome</td> <th>  No. Observations:  </th>   <td>  1752</td>  \n",
       "</tr>\n",
       "<tr>\n",
       "  <th>Model:</th>                 <td>Logit</td>       <th>  Df Residuals:      </th>   <td>  1744</td>  \n",
       "</tr>\n",
       "<tr>\n",
       "  <th>Method:</th>                 <td>MLE</td>        <th>  Df Model:          </th>   <td>     7</td>  \n",
       "</tr>\n",
       "<tr>\n",
       "  <th>Date:</th>            <td>Thu, 02 Nov 2023</td>  <th>  Pseudo R-squ.:     </th>   <td>0.4340</td>  \n",
       "</tr>\n",
       "<tr>\n",
       "  <th>Time:</th>                <td>11:56:39</td>      <th>  Log-Likelihood:    </th>  <td> -639.12</td> \n",
       "</tr>\n",
       "<tr>\n",
       "  <th>converged:</th>             <td>True</td>        <th>  LL-Null:           </th>  <td> -1129.2</td> \n",
       "</tr>\n",
       "<tr>\n",
       "  <th>Covariance Type:</th>     <td>nonrobust</td>     <th>  LLR p-value:       </th> <td>2.415e-207</td>\n",
       "</tr>\n",
       "</table>\n",
       "<table class=\"simpletable\">\n",
       "<tr>\n",
       "        <td></td>           <th>coef</th>     <th>std err</th>      <th>z</th>      <th>P>|z|</th>  <th>[0.025</th>    <th>0.975]</th>  \n",
       "</tr>\n",
       "<tr>\n",
       "  <th>const</th>         <td>   -5.9037</td> <td>    0.521</td> <td>  -11.333</td> <td> 0.000</td> <td>   -6.925</td> <td>   -4.883</td>\n",
       "</tr>\n",
       "<tr>\n",
       "  <th>Age</th>           <td>    2.0416</td> <td>    0.270</td> <td>    7.550</td> <td> 0.000</td> <td>    1.512</td> <td>    2.572</td>\n",
       "</tr>\n",
       "<tr>\n",
       "  <th>WaistCirc</th>     <td>    8.0753</td> <td>    0.656</td> <td>   12.308</td> <td> 0.000</td> <td>    6.789</td> <td>    9.361</td>\n",
       "</tr>\n",
       "<tr>\n",
       "  <th>UricAcid</th>      <td>    0.9286</td> <td>    0.523</td> <td>    1.776</td> <td> 0.076</td> <td>   -0.096</td> <td>    1.953</td>\n",
       "</tr>\n",
       "<tr>\n",
       "  <th>BloodGlucose</th>  <td>    7.7980</td> <td>    1.066</td> <td>    7.313</td> <td> 0.000</td> <td>    5.708</td> <td>    9.888</td>\n",
       "</tr>\n",
       "<tr>\n",
       "  <th>HDL</th>           <td>   -6.4689</td> <td>    0.979</td> <td>   -6.605</td> <td> 0.000</td> <td>   -8.388</td> <td>   -4.549</td>\n",
       "</tr>\n",
       "<tr>\n",
       "  <th>Triglycerides</th> <td>   16.5877</td> <td>    1.591</td> <td>   10.426</td> <td> 0.000</td> <td>   13.469</td> <td>   19.706</td>\n",
       "</tr>\n",
       "<tr>\n",
       "  <th>Sex_Male</th>      <td>   -1.0793</td> <td>    0.166</td> <td>   -6.491</td> <td> 0.000</td> <td>   -1.405</td> <td>   -0.753</td>\n",
       "</tr>\n",
       "</table>"
      ],
      "text/latex": [
       "\\begin{center}\n",
       "\\begin{tabular}{lclc}\n",
       "\\toprule\n",
       "\\textbf{Dep. Variable:}   & MetabolicSyndrome & \\textbf{  No. Observations:  } &     1752    \\\\\n",
       "\\textbf{Model:}           &       Logit       & \\textbf{  Df Residuals:      } &     1744    \\\\\n",
       "\\textbf{Method:}          &        MLE        & \\textbf{  Df Model:          } &        7    \\\\\n",
       "\\textbf{Date:}            &  Thu, 02 Nov 2023 & \\textbf{  Pseudo R-squ.:     } &   0.4340    \\\\\n",
       "\\textbf{Time:}            &      11:56:39     & \\textbf{  Log-Likelihood:    } &   -639.12   \\\\\n",
       "\\textbf{converged:}       &        True       & \\textbf{  LL-Null:           } &   -1129.2   \\\\\n",
       "\\textbf{Covariance Type:} &     nonrobust     & \\textbf{  LLR p-value:       } & 2.415e-207  \\\\\n",
       "\\bottomrule\n",
       "\\end{tabular}\n",
       "\\begin{tabular}{lcccccc}\n",
       "                       & \\textbf{coef} & \\textbf{std err} & \\textbf{z} & \\textbf{P$> |$z$|$} & \\textbf{[0.025} & \\textbf{0.975]}  \\\\\n",
       "\\midrule\n",
       "\\textbf{const}         &      -5.9037  &        0.521     &   -11.333  &         0.000        &       -6.925    &       -4.883     \\\\\n",
       "\\textbf{Age}           &       2.0416  &        0.270     &     7.550  &         0.000        &        1.512    &        2.572     \\\\\n",
       "\\textbf{WaistCirc}     &       8.0753  &        0.656     &    12.308  &         0.000        &        6.789    &        9.361     \\\\\n",
       "\\textbf{UricAcid}      &       0.9286  &        0.523     &     1.776  &         0.076        &       -0.096    &        1.953     \\\\\n",
       "\\textbf{BloodGlucose}  &       7.7980  &        1.066     &     7.313  &         0.000        &        5.708    &        9.888     \\\\\n",
       "\\textbf{HDL}           &      -6.4689  &        0.979     &    -6.605  &         0.000        &       -8.388    &       -4.549     \\\\\n",
       "\\textbf{Triglycerides} &      16.5877  &        1.591     &    10.426  &         0.000        &       13.469    &       19.706     \\\\\n",
       "\\textbf{Sex\\_Male}     &      -1.0793  &        0.166     &    -6.491  &         0.000        &       -1.405    &       -0.753     \\\\\n",
       "\\bottomrule\n",
       "\\end{tabular}\n",
       "%\\caption{Logit Regression Results}\n",
       "\\end{center}"
      ],
      "text/plain": [
       "<class 'statsmodels.iolib.summary.Summary'>\n",
       "\"\"\"\n",
       "                           Logit Regression Results                           \n",
       "==============================================================================\n",
       "Dep. Variable:      MetabolicSyndrome   No. Observations:                 1752\n",
       "Model:                          Logit   Df Residuals:                     1744\n",
       "Method:                           MLE   Df Model:                            7\n",
       "Date:                Thu, 02 Nov 2023   Pseudo R-squ.:                  0.4340\n",
       "Time:                        11:56:39   Log-Likelihood:                -639.12\n",
       "converged:                       True   LL-Null:                       -1129.2\n",
       "Covariance Type:            nonrobust   LLR p-value:                2.415e-207\n",
       "=================================================================================\n",
       "                    coef    std err          z      P>|z|      [0.025      0.975]\n",
       "---------------------------------------------------------------------------------\n",
       "const            -5.9037      0.521    -11.333      0.000      -6.925      -4.883\n",
       "Age               2.0416      0.270      7.550      0.000       1.512       2.572\n",
       "WaistCirc         8.0753      0.656     12.308      0.000       6.789       9.361\n",
       "UricAcid          0.9286      0.523      1.776      0.076      -0.096       1.953\n",
       "BloodGlucose      7.7980      1.066      7.313      0.000       5.708       9.888\n",
       "HDL              -6.4689      0.979     -6.605      0.000      -8.388      -4.549\n",
       "Triglycerides    16.5877      1.591     10.426      0.000      13.469      19.706\n",
       "Sex_Male         -1.0793      0.166     -6.491      0.000      -1.405      -0.753\n",
       "=================================================================================\n",
       "\"\"\""
      ]
     },
     "execution_count": 124,
     "metadata": {},
     "output_type": "execute_result"
    }
   ],
   "source": [
    "model_impute.summary()"
   ]
  },
  {
   "cell_type": "code",
   "execution_count": 123,
   "id": "66d5787e-22c5-4f50-a313-779c8f709d57",
   "metadata": {
    "tags": []
   },
   "outputs": [
    {
     "name": "stdout",
     "output_type": "stream",
     "text": [
      "pseudo_r_squared            0.433987\n",
      "predicted_neg_train    1043.0/1147.0\n",
      "predicted_pos_train      419.0/605.0\n",
      "accuracy_train              0.834475\n",
      "precisioin_train            0.801147\n",
      "predicted_neg_test           255/284\n",
      "predicted_pos_test           110/155\n",
      "accuracy_test               0.831435\n",
      "precision_test              0.791367\n",
      "dtype: object\n"
     ]
    }
   ],
   "source": [
    "model_perf_evaluation(model_impute, X_impute_test,y_impute_test)"
   ]
  },
  {
   "cell_type": "markdown",
   "id": "6c1789ca-abb0-4b2e-b49e-f3718ab5693d",
   "metadata": {},
   "source": [
    "We get some marginal boost in performance"
   ]
  },
  {
   "cell_type": "code",
   "execution_count": null,
   "id": "60c6c9c9-d13b-44b3-a1e1-4baa920fb384",
   "metadata": {},
   "outputs": [],
   "source": []
  }
 ],
 "metadata": {
  "kernelspec": {
   "display_name": "Python [conda env:datascience] *",
   "language": "python",
   "name": "conda-env-datascience-py"
  },
  "language_info": {
   "codemirror_mode": {
    "name": "ipython",
    "version": 3
   },
   "file_extension": ".py",
   "mimetype": "text/x-python",
   "name": "python",
   "nbconvert_exporter": "python",
   "pygments_lexer": "ipython3",
   "version": "3.8.18"
  }
 },
 "nbformat": 4,
 "nbformat_minor": 5
}
